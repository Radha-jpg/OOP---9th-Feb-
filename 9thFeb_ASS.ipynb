{
  "nbformat": 4,
  "nbformat_minor": 0,
  "metadata": {
    "colab": {
      "provenance": []
    },
    "kernelspec": {
      "name": "python3",
      "display_name": "Python 3"
    },
    "language_info": {
      "name": "python"
    }
  },
  "cells": [
    {
      "cell_type": "markdown",
      "source": [
        "#09 Feb_AssQ_Task"
      ],
      "metadata": {
        "id": "S4x7YwNIUYTh"
      }
    },
    {
      "cell_type": "code",
      "execution_count": 6,
      "metadata": {
        "colab": {
          "base_uri": "https://localhost:8080/"
        },
        "id": "tq7urxEjSLhp",
        "outputId": "43725533-1a9d-466a-bfa1-c58e55793d36"
      },
      "outputs": [
        {
          "output_type": "stream",
          "name": "stdout",
          "text": [
            "Car\n",
            "120\n",
            "60\n"
          ]
        }
      ],
      "source": [
        "#Q1\n",
        "\n",
        "class Vehicle:\n",
        "    def __init__(self, name_of_vehicle, max_speed, average_of_vehicle):\n",
        "        self.name_of_vehicle = name_of_vehicle\n",
        "        self.max_speed = max_speed\n",
        "        self.average_of_vehicle = average_of_vehicle\n",
        "\n",
        "car = Vehicle(\"Car\", 120, 60)\n",
        "print(car.name_of_vehicle)\n",
        "print(car.max_speed)\n",
        "print(car.average_of_vehicle)"
      ]
    },
    {
      "cell_type": "code",
      "source": [
        "#Q2\n",
        "class Car(Vehicle):\n",
        "    def seating_capacity(self, capacity):\n",
        "        return f\"{self.name_of_vehicle} has a seating capacity of {capacity}.\"\n",
        "sedan = Car(\"Sedan\", 140, 70)\n",
        "print(sedan.seating_capacity(5))"
      ],
      "metadata": {
        "colab": {
          "base_uri": "https://localhost:8080/"
        },
        "id": "PZCbLuGoSZoa",
        "outputId": "105be3c4-8092-4b7c-9c1f-4d6ba575099d"
      },
      "execution_count": 8,
      "outputs": [
        {
          "output_type": "stream",
          "name": "stdout",
          "text": [
            "Sedan has a seating capacity of 5.\n"
          ]
        }
      ]
    },
    {
      "cell_type": "markdown",
      "source": [
        "#Q3.\n",
        "Multiple inheritance is a feature of object-oriented programming languages where a class can inherit properties and methods from multiple parent classes. In other words, a class can have multiple superclasses.\n",
        "\n"
      ],
      "metadata": {
        "id": "Nss9PyTHTYcS"
      }
    },
    {
      "cell_type": "code",
      "source": [
        "class Parent1:\n",
        "    def method1(self):\n",
        "        print(\"Method 1 from Parent 1\")\n",
        "\n",
        "class Parent2:\n",
        "    def method2(self):\n",
        "        print(\"Method 2 from Parent 2\")\n",
        "\n",
        "class Child(Parent1, Parent2):\n",
        "    pass\n",
        "\n",
        "c = Child()\n",
        "c.method1()\n",
        "c.method2()"
      ],
      "metadata": {
        "colab": {
          "base_uri": "https://localhost:8080/"
        },
        "id": "SdjWIHNnTZL4",
        "outputId": "36e59c9a-7bef-4cc6-a3ed-622612dd5937"
      },
      "execution_count": 3,
      "outputs": [
        {
          "output_type": "stream",
          "name": "stdout",
          "text": [
            "Method 1 from Parent 1\n",
            "Method 2 from Parent 2\n"
          ]
        }
      ]
    },
    {
      "cell_type": "code",
      "source": [
        "#Q4\n",
        "class Employee:\n",
        "    def __init__(self, name, salary):\n",
        "        self.__name = name\n",
        "        self.__salary = salary\n",
        "\n",
        "    def get_name(self):\n",
        "        return self.__name\n",
        "\n",
        "    def set_name(self, name):\n",
        "        self.__name = name\n",
        "\n",
        "    def get_salary(self):\n",
        "        return self.__salary\n",
        "\n",
        "    def set_salary(self, salary):\n",
        "        self.__salary = salary\n",
        "e = Employee(\"John Doe\", 5000)\n",
        "\n",
        "print(e.get_name())\n",
        "e.set_name(\"Jane Doe\")\n",
        "print(e.get_name())\n",
        "\n",
        "print(e.get_salary())\n",
        "e.set_salary(6000)\n",
        "print(e.get_salary())"
      ],
      "metadata": {
        "colab": {
          "base_uri": "https://localhost:8080/"
        },
        "id": "6HmlHuSfTari",
        "outputId": "b016dc26-be93-4bfd-c54a-129fd56037fd"
      },
      "execution_count": 9,
      "outputs": [
        {
          "output_type": "stream",
          "name": "stdout",
          "text": [
            "John Doe\n",
            "Jane Doe\n",
            "5000\n",
            "6000\n"
          ]
        }
      ]
    },
    {
      "cell_type": "code",
      "source": [],
      "metadata": {
        "id": "B8FKVNdxT5-X"
      },
      "execution_count": null,
      "outputs": []
    },
    {
      "cell_type": "markdown",
      "source": [
        "#Q5\n",
        "Method overriding is a feature of object-oriented programming where a subclass provides a new implementation for a method that is already defined in its superclass. The purpose of method overriding is to allow a subclass to extend or modify the behavior of a method inherited from its superclass."
      ],
      "metadata": {
        "id": "oP-CzlSAUM_o"
      }
    },
    {
      "cell_type": "code",
      "source": [
        "class Shape:\n",
        "    def area(self):\n",
        "        pass\n",
        "\n",
        "class Square(Shape):\n",
        "    def __init__(self, side):\n",
        "        self.side = side\n",
        "\n",
        "    def area(self):\n",
        "        return self.side * self.side\n",
        "\n",
        "class Rectangle(Shape):\n",
        "    def __init__(self, length, width):\n",
        "        self.length = length\n",
        "        self.width = width\n",
        "\n",
        "    def area(self):\n",
        "        return self.length * self.width\n",
        "\n",
        "s = Square(4)\n",
        "print(s.area())\n",
        "\n",
        "r = Rectangle(4, 6)\n",
        "print(r.area())\n",
        "\n"
      ],
      "metadata": {
        "colab": {
          "base_uri": "https://localhost:8080/"
        },
        "id": "S5-YduouUNoj",
        "outputId": "5b559020-3207-438d-d8a1-03bb92007a28"
      },
      "execution_count": 5,
      "outputs": [
        {
          "output_type": "stream",
          "name": "stdout",
          "text": [
            "16\n",
            "24\n"
          ]
        }
      ]
    },
    {
      "cell_type": "code",
      "source": [],
      "metadata": {
        "id": "Ks2AEBcEURoK"
      },
      "execution_count": null,
      "outputs": []
    }
  ]
}